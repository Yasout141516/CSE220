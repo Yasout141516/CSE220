{
  "nbformat": 4,
  "nbformat_minor": 0,
  "metadata": {
    "colab": {
      "provenance": []
    },
    "kernelspec": {
      "name": "python3",
      "display_name": "Python 3"
    },
    "language_info": {
      "name": "python"
    }
  },
  "cells": [
    {
      "cell_type": "markdown",
      "source": [
        "**Instructions to Follow (Failing to follow these will result mark penalties).**\n",
        "\n",
        "\n",
        "1.   You can not use any built-in function except len()\n",
        "2.   You can use the shape tuple of numpy arrays\n",
        "2.   You can not use any other python collections except array (e.g: tuple, dictionaries etc.).\n",
        "3. We will initialize a new array using numpy library. We have to mention the fixed size during initialization. There might be two approach.\n",
        "\n",
        "  i. arr = np.zeros((10), dtype = int) #Initializing an array length 10 with values 0\n",
        "\n",
        "  ii. arr = np.array([10, 20, 30, 40]) #Initializing an array length 4 with the values.\n",
        "4. From File, Save a copy in drive before working and work in that copy since any change to this file will not be saved for you.\n",
        "\n",
        "\n",
        "\n",
        "\n"
      ],
      "metadata": {
        "id": "l7Neg32qlqKi"
      }
    },
    {
      "cell_type": "code",
      "execution_count": 1,
      "metadata": {
        "id": "1fdSwhC1lman",
        "colab": {
          "base_uri": "https://localhost:8080/"
        },
        "outputId": "5612630f-bf14-48ee-d6f6-7e2a707f5ff0"
      },
      "outputs": [
        {
          "output_type": "stream",
          "name": "stdout",
          "text": [
            "Looking in indexes: https://pypi.org/simple, https://us-python.pkg.dev/colab-wheels/public/simple/\n",
            "Collecting fhm-unittest\n",
            "  Downloading fhm_unittest-1.0.1-py3-none-any.whl (2.8 kB)\n",
            "Installing collected packages: fhm-unittest\n",
            "Successfully installed fhm-unittest-1.0.1\n",
            "Looking in indexes: https://pypi.org/simple, https://us-python.pkg.dev/colab-wheels/public/simple/\n",
            "Collecting fuzzywuzzy\n",
            "  Downloading fuzzywuzzy-0.18.0-py2.py3-none-any.whl (18 kB)\n",
            "Installing collected packages: fuzzywuzzy\n",
            "Successfully installed fuzzywuzzy-0.18.0\n"
          ]
        },
        {
          "output_type": "stream",
          "name": "stderr",
          "text": [
            "/usr/local/lib/python3.10/dist-packages/fuzzywuzzy/fuzz.py:11: UserWarning: Using slow pure-python SequenceMatcher. Install python-Levenshtein to remove this warning\n",
            "  warnings.warn('Using slow pure-python SequenceMatcher. Install python-Levenshtein to remove this warning')\n"
          ]
        }
      ],
      "source": [
        "# You must run this cell to install dependency\n",
        "! pip3 install fhm-unittest\n",
        "! pip3 install fuzzywuzzy\n",
        "import fhm_unittest as unittest\n",
        "import numpy as np"
      ]
    },
    {
      "cell_type": "code",
      "source": [
        "#You must run this cell to print matrix and for the driver code to work\n",
        "def print_matrix(m):\n",
        "  row,col = m.shape\n",
        "  for i in range(row):\n",
        "    c = 1\n",
        "    print('|', end='')\n",
        "    for j in range(col):\n",
        "      c += 1\n",
        "      if(len(str(m[i][j])) == 1):\n",
        "        print(' ',m[i][j], end = '  |')\n",
        "        c += 6\n",
        "      else:\n",
        "        print(' ',m[i][j], end = ' |')\n",
        "        c += 6\n",
        "    print()\n",
        "    print('-'*(c-col))\n",
        "\n"
      ],
      "metadata": {
        "id": "s1d8VpMcmAYI"
      },
      "execution_count": 2,
      "outputs": []
    },
    {
      "cell_type": "markdown",
      "source": [
        "Task 1: Zigzag Walk"
      ],
      "metadata": {
        "id": "Q2LBZRlumbFr"
      }
    },
    {
      "cell_type": "code",
      "source": [
        "def walk_zigzag(floor):\n",
        "  row,col=floor.shape\n",
        "  print(row)\n",
        "  print(col)\n",
        "  for i in range(row):\n",
        "    if i%2==0:\n",
        "      for j in range(0,col,2):\n",
        "       print(floor[i][j],end=\" \")\n",
        "      print()\n",
        "    else:\n",
        "       for j in range(col-1,-1,-2):\n",
        "        print(floor[i][j],end=\" \")\n",
        "       print()\n",
        "\n",
        "\n",
        "\n",
        "\n",
        "\n",
        "\n",
        "\n",
        "floor = np.array([[ '3W' , '8B' , '4W' , '6B' , '1W' , '5B'],\n",
        "                  ['3B' , '2W' , '1B' , '6W' , '3B' , '8W'],\n",
        "                  ['9W' , '0B' , '7W' , '5B' , '3W' , '8B'],\n",
        "                  ['2B' , '1W' , '3B' , '6W' , '0B' , '4W'],\n",
        "                  ['1W' , '4B' , '2W' , '8B' , '6W' , '6B']]\n",
        "                )\n",
        "print_matrix(floor)\n",
        "print('Walking Sequence:')\n",
        "walk_zigzag(floor)\n",
        "#This should print\n",
        "# 3W 4W 1W\n",
        "# 8W 6W 2W\n",
        "# 9W 7W 3W\n",
        "# 4W 6W 1W\n",
        "# 1W 2W 6W\n"
      ],
      "metadata": {
        "id": "_F8YAVawmMwC",
        "colab": {
          "base_uri": "https://localhost:8080/"
        },
        "outputId": "21dbc1f5-a8e3-45e1-bb1f-bf112b7a6903"
      },
      "execution_count": 3,
      "outputs": [
        {
          "output_type": "stream",
          "name": "stdout",
          "text": [
            "|  3W |  8B |  4W |  6B |  1W |  5B |\n",
            "-------------------------------------\n",
            "|  3B |  2W |  1B |  6W |  3B |  8W |\n",
            "-------------------------------------\n",
            "|  9W |  0B |  7W |  5B |  3W |  8B |\n",
            "-------------------------------------\n",
            "|  2B |  1W |  3B |  6W |  0B |  4W |\n",
            "-------------------------------------\n",
            "|  1W |  4B |  2W |  8B |  6W |  6B |\n",
            "-------------------------------------\n",
            "Walking Sequence:\n",
            "5\n",
            "6\n",
            "3W 4W 1W \n",
            "8W 6W 2W \n",
            "9W 7W 3W \n",
            "4W 6W 1W \n",
            "1W 2W 6W \n"
          ]
        }
      ]
    },
    {
      "cell_type": "markdown",
      "source": [
        "Task 2: Landscape Screen"
      ],
      "metadata": {
        "id": "XP-y7UlNm3BY"
      }
    },
    {
      "cell_type": "code",
      "source": [
        "def landscape(m):\n",
        "  row,col=m.shape\n",
        "  n=np.zeros((col,row),dtype=int)\n",
        "  for i in range(col):\n",
        "    for j in range(row):\n",
        "      n[i][j]=m[j][i]\n",
        "  return(n)\n",
        "\n",
        "\n",
        "m = np.random.randint(15,size=(4,3)) #This creates an np array of 4 x 3 where the values are random numbers from [0,15) range\n",
        "print_matrix(m)\n",
        "print()\n",
        "print_matrix(landscape(m))"
      ],
      "metadata": {
        "id": "3LQXKBz3mUkj",
        "colab": {
          "base_uri": "https://localhost:8080/"
        },
        "outputId": "7a4f3ddb-53a9-4262-9e30-6bdfd4875854"
      },
      "execution_count": 4,
      "outputs": [
        {
          "output_type": "stream",
          "name": "stdout",
          "text": [
            "|  5  |  11 |  3  |\n",
            "-------------------\n",
            "|  11 |  4  |  7  |\n",
            "-------------------\n",
            "|  9  |  6  |  2  |\n",
            "-------------------\n",
            "|  12 |  14 |  14 |\n",
            "-------------------\n",
            "\n",
            "|  5  |  11 |  9  |  12 |\n",
            "-------------------------\n",
            "|  11 |  4  |  6  |  14 |\n",
            "-------------------------\n",
            "|  3  |  7  |  2  |  14 |\n",
            "-------------------------\n"
          ]
        }
      ]
    },
    {
      "cell_type": "markdown",
      "source": [
        "Task 3: Seating Arrangement"
      ],
      "metadata": {
        "id": "piw0POuVna4_"
      }
    },
    {
      "cell_type": "code",
      "source": [
        "import numpy as np\n",
        "def arrangement(m, diff):\n",
        "  row,col=m.shape\n",
        "  for i in range(row):\n",
        "    for j in range(col):\n",
        "      if [i]==[j]:\n",
        "        continue\n",
        "      elif abs(m[i][j]-m[j][i])!=diff:\n",
        "        return False\n",
        "  return True\n",
        "\n",
        "\n",
        "m = np.array([[7,13,9,14],[12,8,15,11],[10,17,3,2],[15,10,1,4]])\n",
        "print_matrix(m)\n",
        "print()\n",
        "returned_value = arrangement(m,1)\n",
        "print(returned_value)#This should print False\n",
        "unittest.output_test(returned_value, False)\n",
        "\n",
        "m = np.array([[8,15,7,12],[13,2,18,11],[9,20,5,2],[14,9,0,10]])\n",
        "print_matrix(m)\n",
        "print()\n",
        "returned_value = arrangement(m,2)\n",
        "print(returned_value)#This should print True\n",
        "unittest.output_test(returned_value, True)"
      ],
      "metadata": {
        "id": "H4EDQCTfnes7",
        "colab": {
          "base_uri": "https://localhost:8080/"
        },
        "outputId": "348682e5-7294-42c6-9108-57bc91135a41"
      },
      "execution_count": 5,
      "outputs": [
        {
          "output_type": "stream",
          "name": "stdout",
          "text": [
            "|  7  |  13 |  9  |  14 |\n",
            "-------------------------\n",
            "|  12 |  8  |  15 |  11 |\n",
            "-------------------------\n",
            "|  10 |  17 |  3  |  2  |\n",
            "-------------------------\n",
            "|  15 |  10 |  1  |  4  |\n",
            "-------------------------\n",
            "\n",
            "False\n",
            "Accepted\n",
            "|  8  |  15 |  7  |  12 |\n",
            "-------------------------\n",
            "|  13 |  2  |  18 |  11 |\n",
            "-------------------------\n",
            "|  9  |  20 |  5  |  2  |\n",
            "-------------------------\n",
            "|  14 |  9  |  0  |  10 |\n",
            "-------------------------\n",
            "\n",
            "True\n",
            "Accepted\n"
          ]
        }
      ]
    },
    {
      "cell_type": "markdown",
      "source": [
        "Task 4: Chess Piece"
      ],
      "metadata": {
        "id": "dULlGfSWoa_-"
      }
    },
    {
      "cell_type": "code",
      "source": [
        "def show_knight_move(knight):\n",
        "  #To Do\n",
        "  chess=np.zeros((8,8),dtype=int)\n",
        "  chess[knight[0]][knight[1]]=33\n",
        "  row,col=chess.shape\n",
        "  a,b=knight[0],knight[1]\n",
        "  r,c=north_right(a,b)\n",
        "  if r<=7 and c<=7:\n",
        "    chess[r][c]=3\n",
        "  r,c=west_north(a,b)\n",
        "  if r<=7 and c<=7:\n",
        "    chess[r][c]=3\n",
        "  r,c=north_left(a,b)\n",
        "  if r<=7 and c<=7:\n",
        "    chess[r][c]=3\n",
        "  r,c=south_right(a,b)\n",
        "  if r<=7 and c<=7:\n",
        "    chess[r][c]=3\n",
        "  r,c=south_left(a,b)\n",
        "  if r<=7 and c<=7:\n",
        "    chess[r][c]=3\n",
        "  r,c=west_south(a,b)\n",
        "  if r<=7 and c<=7:\n",
        "    chess[r][c]=3\n",
        "  r,c=east_north(a,b)\n",
        "  if r<=7 and c<=7:\n",
        "    chess[r][c]=3\n",
        "  r,c=east_south(a,b)\n",
        "  if r<=7 and c<=7:\n",
        "    chess[r][c]=3\n",
        "  return chess\n",
        "\n",
        "\n",
        "\n",
        "def north_right(a,b):\n",
        "  return (a-2),(b+1)\n",
        "def north_left(a,b):\n",
        "  return (a-2),(b-1)\n",
        "def south_right(a,b):\n",
        "  return (a+2),(b+1)\n",
        "def south_left(a,b):\n",
        "  return (a+2),(b-1)\n",
        "def west_north(a,b):\n",
        "  return (a-1),(b-2)\n",
        "def west_south(a,b):\n",
        "  return (a+1),(b-2)\n",
        "def east_north(a,b):\n",
        "  return (a-1),(b+2)\n",
        "def east_south(a,b):\n",
        "  return (a+1),(b+2)\n",
        "\n",
        "\n",
        "knight = (5,6)\n",
        "chess_board = show_knight_move(knight)\n",
        "print_matrix(chess_board)"
      ],
      "metadata": {
        "id": "CXu8BAjWn6IN",
        "colab": {
          "base_uri": "https://localhost:8080/"
        },
        "outputId": "64e03965-6388-48f3-d81a-0a90774001b2"
      },
      "execution_count": 6,
      "outputs": [
        {
          "output_type": "stream",
          "name": "stdout",
          "text": [
            "|  0  |  0  |  0  |  0  |  0  |  0  |  0  |  0  |\n",
            "-------------------------------------------------\n",
            "|  0  |  0  |  0  |  0  |  0  |  0  |  0  |  0  |\n",
            "-------------------------------------------------\n",
            "|  0  |  0  |  0  |  0  |  0  |  0  |  0  |  0  |\n",
            "-------------------------------------------------\n",
            "|  0  |  0  |  0  |  0  |  0  |  3  |  0  |  3  |\n",
            "-------------------------------------------------\n",
            "|  0  |  0  |  0  |  0  |  3  |  0  |  0  |  0  |\n",
            "-------------------------------------------------\n",
            "|  0  |  0  |  0  |  0  |  0  |  0  |  33 |  0  |\n",
            "-------------------------------------------------\n",
            "|  0  |  0  |  0  |  0  |  3  |  0  |  0  |  0  |\n",
            "-------------------------------------------------\n",
            "|  0  |  0  |  0  |  0  |  0  |  3  |  0  |  3  |\n",
            "-------------------------------------------------\n"
          ]
        }
      ]
    },
    {
      "cell_type": "markdown",
      "source": [
        "Bonus Task (UNGRADED)"
      ],
      "metadata": {
        "id": "Dox4AStYo8Xk"
      }
    },
    {
      "cell_type": "code",
      "source": [
        "def topple(knight,rook):\n",
        "  #To Do\n",
        "  return None\n",
        "\n",
        "\n",
        "knight = (5,6)\n",
        "rook = (5,1)\n",
        "chess_board, ans = topple(knight,rook)\n",
        "print_matrix(chess_board)\n",
        "print(ans) #This should print Rook can kill"
      ],
      "metadata": {
        "id": "AvzKs7wnoraw"
      },
      "execution_count": null,
      "outputs": []
    },
    {
      "cell_type": "code",
      "source": [
        "def even(m):\n",
        "  sum=0\n",
        "  row,col=m.shape\n",
        "  for i in range(row):\n",
        "    for j in range(col):\n",
        "      if m[i][j]%2==0:\n",
        "        sum+=m[i][j]\n",
        "  return sum\n",
        "m = np.array([[7,13,9],[12,8,15],[10,17,3]])\n",
        "print(even(m))"
      ],
      "metadata": {
        "colab": {
          "base_uri": "https://localhost:8080/"
        },
        "id": "iCb8bxzuibW1",
        "outputId": "4e88fb9b-de45-4ca7-f149-f11191914152"
      },
      "execution_count": null,
      "outputs": [
        {
          "output_type": "stream",
          "name": "stdout",
          "text": [
            "30\n"
          ]
        }
      ]
    }
  ]
}