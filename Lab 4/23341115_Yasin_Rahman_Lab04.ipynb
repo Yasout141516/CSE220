{
  "nbformat": 4,
  "nbformat_minor": 0,
  "metadata": {
    "colab": {
      "provenance": []
    },
    "kernelspec": {
      "name": "python3",
      "display_name": "Python 3"
    },
    "language_info": {
      "name": "python"
    }
  },
  "cells": [
    {
      "cell_type": "code",
      "source": [
        "import numpy as np"
      ],
      "metadata": {
        "id": "yrbkUeN0ZrHS"
      },
      "execution_count": 3,
      "outputs": []
    },
    {
      "cell_type": "code",
      "source": [
        "\n",
        "class Patient:\n",
        "  def __init__(self, id, name, age, blood_group):\n",
        "    self.id = id\n",
        "    self.name = name\n",
        "    self.age = age\n",
        "    self.blood_group = blood_group"
      ],
      "metadata": {
        "id": "HdugaGQYZvv8"
      },
      "execution_count": 5,
      "outputs": []
    },
    {
      "cell_type": "code",
      "source": [
        "#Number 2\n",
        "class DoublyNode:\n",
        "  def __init__(self, elem, next=None, prev=None):\n",
        "    self.elem = elem\n",
        "    self.next = next\n",
        "    self.prev = prev\n",
        "\n",
        "class WRM:\n",
        "  def __init__(self):\n",
        "    self.head = DoublyNode(None)\n",
        "    self.tail = self.head\n",
        "    self.count = 0\n",
        "\n",
        "  def registerPatient(self, id, name, age, blood_group):\n",
        "    new_patient = Patient(id, name, age, blood_group)\n",
        "    new_node = DoublyNode(new_patient)\n",
        "    if self.count == 0:\n",
        "      new_node.next = new_node\n",
        "      new_node.prev = new_node\n",
        "      self.head = new_node\n",
        "      self.tail = new_node\n",
        "    else:\n",
        "      new_node.next = self.head\n",
        "      new_node.prev = self.tail\n",
        "      self.head.prev = new_node\n",
        "      self.tail.next = new_node\n",
        "      self.tail = new_node\n",
        "    self.count += 1\n",
        "    print(\"Success registering Patient\")\n",
        "\n",
        "  def servePatient(self):\n",
        "    if self.count == 0:\n",
        "      print(\"No patients in the waiting room.\")\n",
        "    else:\n",
        "      served_patient = self.head.elem\n",
        "      self.head = self.head.next\n",
        "      self.tail.next = self.head\n",
        "      self.head.prev = self.tail\n",
        "      self.count -= 1\n",
        "      print(served_patient.name,\"is served\")\n",
        "\n",
        "  def cancelAll(self):\n",
        "    if self.count == 0:\n",
        "      print(\"No appointments to cancel.\")\n",
        "    else:\n",
        "      self.head = self.tail = DoublyNode(None)\n",
        "      self.count = 0\n",
        "      print(\"All appointments canceled. Doctor can go to lunch.\")\n",
        "\n",
        "  def canDoctorGoHome(self):\n",
        "    if self.count == 0:\n",
        "      print(\"Yes, doctor can go home.\")\n",
        "    else:\n",
        "      print(\"No, there are still patients waiting.\")\n",
        "\n",
        "  def showAllPatients(self):\n",
        "    if self.count == 0:\n",
        "      print(\"No patients in the waiting room.\")\n",
        "    else:\n",
        "      current = self.head\n",
        "      print(\"Waiting patients:\")\n",
        "      for _ in range(self.count):\n",
        "        print(\"ID:\", current.elem.id)\n",
        "        current = current.next"
      ],
      "metadata": {
        "id": "49JKm9dNup2a"
      },
      "execution_count": 11,
      "outputs": []
    },
    {
      "cell_type": "code",
      "source": [
        "#Tester code\n",
        "#Number 3\n",
        "wrm=WRM()\n",
        "\n",
        "while True:\n",
        "  print(\"Options:\")\n",
        "  print(\"1. Add Patient\")\n",
        "  print(\"2. Serve Patient\")\n",
        "  print(\"3. Show All Patients\")\n",
        "  print(\"4. Can Doctor Go Home?\")\n",
        "  print(\"5. Cancel All Appointments\")\n",
        "  print(\"6. Quit\")\n",
        "\n",
        "  choice = int(input(\"Enter your choice: \"))\n",
        "  if choice == 1:\n",
        "    id = int(input(\"Enter patient ID: \"))\n",
        "    name = input(\"Enter patient name: \")\n",
        "    age = int(input(\"Enter patient age: \"))\n",
        "    blood_group = input(\"Enter patient blood group: \")\n",
        "    wrm.registerPatient(id, name, age, blood_group)\n",
        "\n",
        "  elif choice==2:\n",
        "    wrm.servePatient()\n",
        "\n",
        "  elif choice==3:\n",
        "    wrm.showAllPatients()\n",
        "\n",
        "  elif choice==4:\n",
        "    wrm.canDoctorGoHome()\n",
        "\n",
        "  elif choice==5:\n",
        "    wrm.cancelAll()\n",
        "\n",
        "  elif choice==6:\n",
        "    break\n",
        "\n",
        "  print()\n",
        "#21201373\n",
        "#Yasin\n",
        "#16\n",
        "#B-ve"
      ],
      "metadata": {
        "colab": {
          "base_uri": "https://localhost:8080/",
          "height": 1000
        },
        "id": "S3CJ6n-twRDB",
        "outputId": "b929b195-6cba-461a-c688-755c9bf77555"
      },
      "execution_count": 13,
      "outputs": [
        {
          "output_type": "stream",
          "name": "stdout",
          "text": [
            "Options:\n",
            "1. Add Patient\n",
            "2. Serve Patient\n",
            "3. Show All Patients\n",
            "4. Can Doctor Go Home?\n",
            "5. Cancel All Appointments\n",
            "6. Quit\n",
            "Enter your choice: 1\n",
            "Enter patient ID: 0\n",
            "Enter patient name: Pokemon\n",
            "Enter patient age: 5\n",
            "Enter patient blood group: B-ve\n",
            "Success registering Patient\n",
            "\n",
            "Options:\n",
            "1. Add Patient\n",
            "2. Serve Patient\n",
            "3. Show All Patients\n",
            "4. Can Doctor Go Home?\n",
            "5. Cancel All Appointments\n",
            "6. Quit\n",
            "Enter your choice: 1\n",
            "Enter patient ID: 2\n",
            "Enter patient name: Taj\n",
            "Enter patient age: 90\n",
            "Enter patient blood group: P-ve\n",
            "Success registering Patient\n",
            "\n",
            "Options:\n",
            "1. Add Patient\n",
            "2. Serve Patient\n",
            "3. Show All Patients\n",
            "4. Can Doctor Go Home?\n",
            "5. Cancel All Appointments\n",
            "6. Quit\n",
            "Enter your choice: 4\n",
            "No, there are still patients waiting.\n",
            "\n",
            "Options:\n",
            "1. Add Patient\n",
            "2. Serve Patient\n",
            "3. Show All Patients\n",
            "4. Can Doctor Go Home?\n",
            "5. Cancel All Appointments\n",
            "6. Quit\n"
          ]
        },
        {
          "output_type": "error",
          "ename": "KeyboardInterrupt",
          "evalue": "ignored",
          "traceback": [
            "\u001b[0;31m---------------------------------------------------------------------------\u001b[0m",
            "\u001b[0;31mKeyboardInterrupt\u001b[0m                         Traceback (most recent call last)",
            "\u001b[0;32m<ipython-input-13-508309bda19e>\u001b[0m in \u001b[0;36m<cell line: 5>\u001b[0;34m()\u001b[0m\n\u001b[1;32m     12\u001b[0m   \u001b[0mprint\u001b[0m\u001b[0;34m(\u001b[0m\u001b[0;34m\"6. Quit\"\u001b[0m\u001b[0;34m)\u001b[0m\u001b[0;34m\u001b[0m\u001b[0;34m\u001b[0m\u001b[0m\n\u001b[1;32m     13\u001b[0m \u001b[0;34m\u001b[0m\u001b[0m\n\u001b[0;32m---> 14\u001b[0;31m   \u001b[0mchoice\u001b[0m \u001b[0;34m=\u001b[0m \u001b[0mint\u001b[0m\u001b[0;34m(\u001b[0m\u001b[0minput\u001b[0m\u001b[0;34m(\u001b[0m\u001b[0;34m\"Enter your choice: \"\u001b[0m\u001b[0;34m)\u001b[0m\u001b[0;34m)\u001b[0m\u001b[0;34m\u001b[0m\u001b[0;34m\u001b[0m\u001b[0m\n\u001b[0m\u001b[1;32m     15\u001b[0m   \u001b[0;32mif\u001b[0m \u001b[0mchoice\u001b[0m \u001b[0;34m==\u001b[0m \u001b[0;36m1\u001b[0m\u001b[0;34m:\u001b[0m\u001b[0;34m\u001b[0m\u001b[0;34m\u001b[0m\u001b[0m\n\u001b[1;32m     16\u001b[0m     \u001b[0mid\u001b[0m \u001b[0;34m=\u001b[0m \u001b[0mint\u001b[0m\u001b[0;34m(\u001b[0m\u001b[0minput\u001b[0m\u001b[0;34m(\u001b[0m\u001b[0;34m\"Enter patient ID: \"\u001b[0m\u001b[0;34m)\u001b[0m\u001b[0;34m)\u001b[0m\u001b[0;34m\u001b[0m\u001b[0;34m\u001b[0m\u001b[0m\n",
            "\u001b[0;32m/usr/local/lib/python3.10/dist-packages/ipykernel/kernelbase.py\u001b[0m in \u001b[0;36mraw_input\u001b[0;34m(self, prompt)\u001b[0m\n\u001b[1;32m    849\u001b[0m                 \u001b[0;34m\"raw_input was called, but this frontend does not support input requests.\"\u001b[0m\u001b[0;34m\u001b[0m\u001b[0;34m\u001b[0m\u001b[0m\n\u001b[1;32m    850\u001b[0m             )\n\u001b[0;32m--> 851\u001b[0;31m         return self._input_request(str(prompt),\n\u001b[0m\u001b[1;32m    852\u001b[0m             \u001b[0mself\u001b[0m\u001b[0;34m.\u001b[0m\u001b[0m_parent_ident\u001b[0m\u001b[0;34m,\u001b[0m\u001b[0;34m\u001b[0m\u001b[0;34m\u001b[0m\u001b[0m\n\u001b[1;32m    853\u001b[0m             \u001b[0mself\u001b[0m\u001b[0;34m.\u001b[0m\u001b[0m_parent_header\u001b[0m\u001b[0;34m,\u001b[0m\u001b[0;34m\u001b[0m\u001b[0;34m\u001b[0m\u001b[0m\n",
            "\u001b[0;32m/usr/local/lib/python3.10/dist-packages/ipykernel/kernelbase.py\u001b[0m in \u001b[0;36m_input_request\u001b[0;34m(self, prompt, ident, parent, password)\u001b[0m\n\u001b[1;32m    893\u001b[0m             \u001b[0;32mexcept\u001b[0m \u001b[0mKeyboardInterrupt\u001b[0m\u001b[0;34m:\u001b[0m\u001b[0;34m\u001b[0m\u001b[0;34m\u001b[0m\u001b[0m\n\u001b[1;32m    894\u001b[0m                 \u001b[0;31m# re-raise KeyboardInterrupt, to truncate traceback\u001b[0m\u001b[0;34m\u001b[0m\u001b[0;34m\u001b[0m\u001b[0m\n\u001b[0;32m--> 895\u001b[0;31m                 \u001b[0;32mraise\u001b[0m \u001b[0mKeyboardInterrupt\u001b[0m\u001b[0;34m(\u001b[0m\u001b[0;34m\"Interrupted by user\"\u001b[0m\u001b[0;34m)\u001b[0m \u001b[0;32mfrom\u001b[0m \u001b[0;32mNone\u001b[0m\u001b[0;34m\u001b[0m\u001b[0;34m\u001b[0m\u001b[0m\n\u001b[0m\u001b[1;32m    896\u001b[0m             \u001b[0;32mexcept\u001b[0m \u001b[0mException\u001b[0m \u001b[0;32mas\u001b[0m \u001b[0me\u001b[0m\u001b[0;34m:\u001b[0m\u001b[0;34m\u001b[0m\u001b[0;34m\u001b[0m\u001b[0m\n\u001b[1;32m    897\u001b[0m                 \u001b[0mself\u001b[0m\u001b[0;34m.\u001b[0m\u001b[0mlog\u001b[0m\u001b[0;34m.\u001b[0m\u001b[0mwarning\u001b[0m\u001b[0;34m(\u001b[0m\u001b[0;34m\"Invalid Message:\"\u001b[0m\u001b[0;34m,\u001b[0m \u001b[0mexc_info\u001b[0m\u001b[0;34m=\u001b[0m\u001b[0;32mTrue\u001b[0m\u001b[0;34m)\u001b[0m\u001b[0;34m\u001b[0m\u001b[0;34m\u001b[0m\u001b[0m\n",
            "\u001b[0;31mKeyboardInterrupt\u001b[0m: Interrupted by user"
          ]
        }
      ]
    }
  ]
}