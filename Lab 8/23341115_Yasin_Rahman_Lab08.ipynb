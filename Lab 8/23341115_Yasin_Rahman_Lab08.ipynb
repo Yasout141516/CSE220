{
  "cells": [
    {
      "cell_type": "code",
      "execution_count": 14,
      "metadata": {
        "id": "D6vC520OPeTa"
      },
      "outputs": [],
      "source": [
        "class BTNode:\n",
        "  def __init__(self, elem):\n",
        "    self.elem = elem\n",
        "    self.right = None\n",
        "    self.left = None"
      ]
    },
    {
      "cell_type": "code",
      "execution_count": 15,
      "metadata": {
        "id": "UDTKlm4-PfNM"
      },
      "outputs": [],
      "source": [
        "def inorder(root):\n",
        "  if root == None:\n",
        "    return\n",
        "  inorder(root.left)\n",
        "  print(root.elem, end = ' ')\n",
        "  inorder(root.right)"
      ]
    },
    {
      "cell_type": "code",
      "execution_count": 16,
      "metadata": {
        "colab": {
          "base_uri": "https://localhost:8080/"
        },
        "id": "Rtc22SPzPgzM",
        "outputId": "0ab44692-96dc-4163-8125-2d8f3ed346b9"
      },
      "outputs": [
        {
          "output_type": "stream",
          "name": "stdout",
          "text": [
            "H D B E A I F J C G k "
          ]
        }
      ],
      "source": [
        "def tree_construction(arr, i = 1):\n",
        "  if i>=len(arr) or arr[i] == None:\n",
        "    return None\n",
        "\n",
        "  p = BTNode(arr[i])\n",
        "  p.left = tree_construction(arr, 2*i)\n",
        "  p.right = tree_construction(arr, 2*i+1)\n",
        "  return p\n",
        "\n",
        "\n",
        "root2 = tree_construction([None, 'A', 'B', 'C', 'D', 'E', 'F', 'G', 'H', None, None, None, 'I', 'J', None, 'k'])\n",
        "inorder(root2)"
      ]
    },
    {
      "cell_type": "markdown",
      "metadata": {
        "id": "S2nNCJNhPqGq"
      },
      "source": [
        "Task 1"
      ]
    },
    {
      "cell_type": "code",
      "execution_count": null,
      "metadata": {
        "colab": {
          "base_uri": "https://localhost:8080/"
        },
        "id": "zbBHU3FoPieb",
        "outputId": "cd401f27-b43e-445e-98c8-4fa1f20e0862"
      },
      "outputs": [
        {
          "output_type": "stream",
          "name": "stdout",
          "text": [
            "Given Tree Inorder Traversal:  40 20 60 10 30 \n",
            "Mirrored Tree Inorder Traversal:  30 10 60 20 40 "
          ]
        }
      ],
      "source": [
        "def convert_mirror(root):\n",
        "  if (root == None):\n",
        "    return\n",
        "  else:\n",
        "    temp = root\n",
        "\n",
        "    convert_mirror(root.left)\n",
        "    convert_mirror(root.right)\n",
        "\n",
        "    temp = root.left\n",
        "    root.left = root.right\n",
        "    root.right = temp\n",
        "  return root\n",
        "\n",
        "#DRIVER CODE\n",
        "root = BTNode(10)\n",
        "n1 = BTNode(20)\n",
        "n2 = BTNode(30)\n",
        "n3 = BTNode(40)\n",
        "n4 = BTNode(60)\n",
        "\n",
        "root.left = n1\n",
        "root.right = n2\n",
        "\n",
        "n1.left = n3\n",
        "n1.right = n4\n",
        "\n",
        "print('Given Tree Inorder Traversal: ', end = ' ')\n",
        "inorder(root) #Given Tree Inorder Traversal:  40 20 60 10 30\n",
        "print()\n",
        "\n",
        "root2 = convert_mirror(root)\n",
        "print('Mirrored Tree Inorder Traversal: ', end = ' ')\n",
        "inorder(root2) #Mirrored Tree Inorder Traversal:  30 10 60 20 40"
      ]
    },
    {
      "cell_type": "markdown",
      "metadata": {
        "id": "c-TBf3m0PrtK"
      },
      "source": [
        "Task 2"
      ]
    },
    {
      "cell_type": "code",
      "execution_count": 10,
      "metadata": {
        "colab": {
          "base_uri": "https://localhost:8080/"
        },
        "id": "lsuxinlBPmji",
        "outputId": "ab126600-7ba2-4852-b0ef-0d2e806d2522"
      },
      "outputs": [
        {
          "output_type": "stream",
          "name": "stdout",
          "text": [
            "Given Tree Inorder Traversal:  3 9 5 4 2 7 \n",
            "Level Wise Largest Value:  {0: 4, 1: 9, 2: 7}\n"
          ]
        }
      ],
      "source": [
        "def largest_level(root,level={},i=0):\n",
        "  if root is None:\n",
        "      return level\n",
        "  if i not in level or root.elem>level[i]:\n",
        "      level[i]=root.elem\n",
        "  largest_level(root.left,level,i+1)\n",
        "  return largest_level(root.right,level,i+1)\n",
        "\n",
        "#DRIVER CODE\n",
        "root = tree_construction([None, 4,9,2,3,5,None,7])\n",
        "print('Given Tree Inorder Traversal: ', end = ' ')\n",
        "inorder(root) #Given Tree Inorder Traversal:  3 9 5 4 2 7\n",
        "print()\n",
        "print('Level Wise Largest Value: ', end = ' ')\n",
        "print(largest_level(root)) #Level Wise Largest Value:  {0: 4, 1: 9, 2: 7}"
      ]
    },
    {
      "cell_type": "markdown",
      "metadata": {
        "id": "7r3lH3aWPz2d"
      },
      "source": [
        "Task 3"
      ]
    },
    {
      "cell_type": "code",
      "execution_count": 4,
      "metadata": {
        "colab": {
          "base_uri": "https://localhost:8080/"
        },
        "id": "zFwP64v4Pu6d",
        "outputId": "f2dc69ba-038c-4634-dcbc-25be8e5ddb1f"
      },
      "outputs": [
        {
          "output_type": "stream",
          "name": "stdout",
          "text": [
            "Given Tree Inorder Traversal:  4 8 10 12 14 20 22 \n",
            "Inorder successor of node 8: 10\n"
          ]
        }
      ],
      "source": [
        "def inorder_successor(root, x):\n",
        "  if root is None:\n",
        "        return None\n",
        "\n",
        "  successor = None\n",
        "  while root:\n",
        "        if x.elem < root.elem:\n",
        "            successor = root\n",
        "            root = root.left\n",
        "        else:\n",
        "            root = root.right\n",
        "  return successor\n",
        "\n",
        "#DRIVER CODE\n",
        "root = BTNode(20)\n",
        "n1 = BTNode(8)\n",
        "n2 = BTNode(22)\n",
        "n3 = BTNode(4)\n",
        "n4 = BTNode(12)\n",
        "n5 = BTNode(10)\n",
        "n6 = BTNode(14)\n",
        "\n",
        "root.left = n1\n",
        "root.right = n2\n",
        "\n",
        "n1.left = n3\n",
        "n1.right = n4\n",
        "\n",
        "n4.left = n5\n",
        "n4.right = n6\n",
        "\n",
        "print('Given Tree Inorder Traversal: ', end = ' ')\n",
        "inorder(root) #Given Tree Inorder Traversal:  4 8 10 12 14 20 22\n",
        "print()\n",
        "\n",
        "x = n1\n",
        "print(f'Inorder successor of node {x.elem}: {inorder_successor(root, x).elem}') #Inorder successor of node 8: 10"
      ]
    },
    {
      "cell_type": "markdown",
      "metadata": {
        "id": "t3IGW4OaP8Vy"
      },
      "source": [
        "Task 4"
      ]
    },
    {
      "cell_type": "code",
      "execution_count": 21,
      "metadata": {
        "colab": {
          "base_uri": "https://localhost:8080/"
        },
        "id": "d1A-tR7hP2fI",
        "outputId": "0e100ad5-eb00-4d3b-ba3e-2f08a73d152c"
      },
      "outputs": [
        {
          "output_type": "stream",
          "name": "stdout",
          "text": [
            "Given Tree Inorder Traversal:  4 5 6 7 8 9 11 12 \n",
            "6\n"
          ]
        }
      ],
      "source": [
        "def kth_smallest(root,k,i=0):\n",
        "  if root==None:\n",
        "    return None\n",
        "  left = kth_smallest(root.left, k, i)\n",
        "  if left:\n",
        "    return left\n",
        "  i += 1\n",
        "\n",
        "  if i == k:\n",
        "    return root\n",
        "\n",
        "  return kth_smallest(root.right, k, i)\n",
        "#DRIVER CODE\n",
        "root = tree_construction([None, 9,5,11,4,7,None,12,None,None,6,8,None,None,None,None])\n",
        "print('Given Tree Inorder Traversal: ', end = ' ')\n",
        "inorder(root)\n",
        "print()\n",
        "k = 2\n",
        "print(kth_smallest(root,k).elem)"
      ]
    },
    {
      "cell_type": "markdown",
      "metadata": {
        "id": "SBD-0xoZP_ni"
      },
      "source": [
        "Bonus"
      ]
    },
    {
      "cell_type": "code",
      "execution_count": 24,
      "metadata": {
        "id": "m4E9_E8PThk6",
        "colab": {
          "base_uri": "https://localhost:8080/"
        },
        "outputId": "ebbb1812-f299-477e-add7-653b16d7672e"
      },
      "outputs": [
        {
          "output_type": "stream",
          "name": "stdout",
          "text": [
            "18\n"
          ]
        }
      ],
      "source": [
        "# class Node:\n",
        "#   \"\"\"\n",
        "#   This class represents a node in the binary tree.\n",
        "\n",
        "#   Attributes:\n",
        "#     val: The value stored in the node.\n",
        "#     left: The left child of the node.\n",
        "#     right: The right child of the node.\n",
        "#   \"\"\"\n",
        "\n",
        "#   def __init__(self, val):\n",
        "#     self.val = val\n",
        "#     self.left = None\n",
        "#     self.right = None\n",
        "\n",
        "\n",
        "# def difference_between_odd_even_sum(root):\n",
        "#   \"\"\"\n",
        "#   This function finds the difference between the sum of all nodes present at odd and even levels in a binary tree.\n",
        "\n",
        "#   Args:\n",
        "#     root: The root of the binary tree.\n",
        "\n",
        "#   Returns:\n",
        "#     The difference between the sum of all nodes present at odd and even levels in a binary tree.\n",
        "#   \"\"\"\n",
        "\n",
        "#   if not root:\n",
        "#     return 0\n",
        "\n",
        "#   even_sum = 0\n",
        "#   odd_sum = 0\n",
        "\n",
        "#   level = 0\n",
        "#   queue = [root]\n",
        "\n",
        "#   while queue:\n",
        "#     current_level_size = len(queue)\n",
        "\n",
        "#     for _ in range(current_level_size):\n",
        "#       current_node = queue.pop(0)\n",
        "\n",
        "#       if level % 2 == 0:\n",
        "#         even_sum += current_node.val\n",
        "#       else:\n",
        "#         odd_sum += current_node.val\n",
        "\n",
        "#       if current_node.left:\n",
        "#         queue.append(current_node.left)\n",
        "#       if current_node.right:\n",
        "#         queue.append(current_node.right)\n",
        "\n",
        "#       level += 1\n",
        "\n",
        "#   return even_sum - odd_sum\n",
        "\n",
        "\n",
        "# def main():\n",
        "#   # Create a binary tree\n",
        "#   root = Node(9)\n",
        "#   root.left = Node(5)\n",
        "#   root.right = Node(11)\n",
        "#   root.left.left = Node(4)\n",
        "#   root.left.right = Node(7)\n",
        "\n",
        "#   # Find the difference between the sum of all nodes present at odd and even levels\n",
        "#   print(difference_between_odd_even_sum(root))\n",
        "# if __name__ == '__main__':\n",
        "#   main()"
      ]
    },
    {
      "cell_type": "markdown",
      "source": [],
      "metadata": {
        "id": "ChJy7hTZG2O2"
      }
    }
  ],
  "metadata": {
    "colab": {
      "provenance": []
    },
    "kernelspec": {
      "display_name": "Python 3",
      "name": "python3"
    },
    "language_info": {
      "name": "python"
    }
  },
  "nbformat": 4,
  "nbformat_minor": 0
}