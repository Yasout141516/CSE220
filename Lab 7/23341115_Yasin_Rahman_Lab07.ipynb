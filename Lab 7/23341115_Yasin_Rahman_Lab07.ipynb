{
  "nbformat": 4,
  "nbformat_minor": 0,
  "metadata": {
    "colab": {
      "provenance": []
    },
    "kernelspec": {
      "name": "python3",
      "display_name": "Python 3"
    },
    "language_info": {
      "name": "python"
    }
  },
  "cells": [
    {
      "cell_type": "code",
      "execution_count": 1,
      "metadata": {
        "colab": {
          "base_uri": "https://localhost:8080/"
        },
        "id": "CvHWU9VwU1DB",
        "outputId": "43cdaf0d-3283-4856-ae17-b90c1fb72739"
      },
      "outputs": [
        {
          "output_type": "stream",
          "name": "stdout",
          "text": [
            "Collecting fhm-unittest\n",
            "  Downloading fhm_unittest-1.0.1-py3-none-any.whl (2.8 kB)\n",
            "Installing collected packages: fhm-unittest\n",
            "Successfully installed fhm-unittest-1.0.1\n",
            "Collecting fuzzywuzzy\n",
            "  Downloading fuzzywuzzy-0.18.0-py2.py3-none-any.whl (18 kB)\n",
            "Installing collected packages: fuzzywuzzy\n",
            "Successfully installed fuzzywuzzy-0.18.0\n"
          ]
        },
        {
          "output_type": "stream",
          "name": "stderr",
          "text": [
            "/usr/local/lib/python3.10/dist-packages/fuzzywuzzy/fuzz.py:11: UserWarning: Using slow pure-python SequenceMatcher. Install python-Levenshtein to remove this warning\n",
            "  warnings.warn('Using slow pure-python SequenceMatcher. Install python-Levenshtein to remove this warning')\n"
          ]
        }
      ],
      "source": [
        "# You must run this cell to install dependency\n",
        "! pip3 install fhm-unittest\n",
        "! pip3 install fuzzywuzzy\n",
        "import fhm_unittest as unittest\n",
        "import numpy as np"
      ]
    },
    {
      "cell_type": "markdown",
      "source": [
        "Run this cell first"
      ],
      "metadata": {
        "id": "uuc9lAd6YgTI"
      }
    },
    {
      "cell_type": "code",
      "source": [
        "class Node:\n",
        "  def __init__(self, elem, next = None):\n",
        "    self.elem, self.next = elem, next\n",
        "\n",
        "def create_linked_list(arr):\n",
        "  head = Node(arr[0])\n",
        "  tail = head\n",
        "  for i in arr[1:]:\n",
        "    new_node = Node(i)\n",
        "    tail.next = new_node\n",
        "    tail = new_node\n",
        "  return head\n",
        "\n",
        "def count(head):\n",
        "  count = 0\n",
        "  while head != None:\n",
        "    count += 1\n",
        "    head = head.next\n",
        "  return count\n",
        "\n",
        "def print_linked_list(head):\n",
        "  while head != None:\n",
        "    print(head.elem, end = '-> ')\n",
        "    head = head.next\n",
        "  print('None')\n",
        "  print()"
      ],
      "metadata": {
        "id": "BQi67-3NU3GS"
      },
      "execution_count": 2,
      "outputs": []
    },
    {
      "cell_type": "markdown",
      "source": [
        "#TASK 1\n",
        "> You can use Dictionary, Set and membership operator (in/not in) for this task. Membership Operator takes constant time in these unordered collections.\n",
        "\n",
        "\n",
        "\n",
        "However,\n",
        "\n",
        "\n",
        ">  ***DO NOT USE*** Membership Operator in List, String for this task.\n",
        "\n",
        "> You can traverse the array ***ONLY ONCE*** (i.e. no nested loop).\n",
        "\n",
        "\n",
        "\n"
      ],
      "metadata": {
        "id": "34hWSyDJYn25"
      }
    },
    {
      "cell_type": "code",
      "source": [
        "#Do by yourself\n",
        "def nerdy_run(path,k):\n",
        "  dit={}\n",
        "  repeat={}\n",
        "  for i in range(len(path)):\n",
        "    if path[i] not in dit.keys():\n",
        "      dit[path[i]]=i\n",
        "    else:\n",
        "      repeat[path[i]]=i\n",
        "  for i in dit.keys():\n",
        "    if i in repeat.keys():\n",
        "      one=dit[i]\n",
        "      two=repeat[i]\n",
        "      if abs(one-two)<k:\n",
        "       return i\n",
        "      return None"
      ],
      "metadata": {
        "id": "mi8D3lXRaEDL"
      },
      "execution_count": 42,
      "outputs": []
    },
    {
      "cell_type": "code",
      "source": [
        "def main():\n",
        "\n",
        "  path = [6,7,8,9,5,9]\n",
        "  k = 3\n",
        "  result = nerdy_run(path,k)\n",
        "  unittest.output_test(result, 9)\n",
        "  print(f'Duplicate value within range {k} is: {result}') #Duplicate value within range 3 is: 9\n",
        "\n",
        "  print('===================================')\n",
        "  path = [6,7,8,9,5,6]\n",
        "  k = 4\n",
        "  result = nerdy_run(path,k)\n",
        "  unittest.output_test(result, None)\n",
        "  print(f'Duplicate value within range {k} is: {result}') #Duplicate value within range 4 is: None\n",
        "\n",
        "  print('===================================')\n",
        "  path = [0.21,1.21,4.67,0.21,0.45,1.9]\n",
        "  k = 7\n",
        "  result = nerdy_run(path,k)\n",
        "  unittest.output_test(result, 0.21)\n",
        "  print(f'Duplicate value within range {k} is: {result}') #Duplicate value within range 7 is: 0.21\n",
        "\n",
        "\n",
        "if __name__ == \"__main__\":\n",
        "  main()"
      ],
      "metadata": {
        "id": "eHa5uJahWA3o",
        "colab": {
          "base_uri": "https://localhost:8080/"
        },
        "outputId": "c1ffa3d7-f5fb-47f7-e90c-d9d6825106fa"
      },
      "execution_count": 43,
      "outputs": [
        {
          "output_type": "stream",
          "name": "stdout",
          "text": [
            "Accepted\n",
            "Duplicate value within range 3 is: 9\n",
            "===================================\n",
            "Accepted\n",
            "Duplicate value within range 4 is: None\n",
            "===================================\n",
            "Accepted\n",
            "Duplicate value within range 7 is: 0.21\n"
          ]
        }
      ]
    },
    {
      "cell_type": "markdown",
      "source": [
        "#TASK 2\n",
        "Complete the following methods:\n",
        "\n",
        ">  __hash_function()\n",
        "\n",
        "> search_hashtable()\n",
        "\n",
        "\n",
        "\n"
      ],
      "metadata": {
        "id": "B92R0bs3X_kI"
      }
    },
    {
      "cell_type": "code",
      "source": [
        "class Hashtable:\n",
        "  def __init__(self, size):\n",
        "    self.ht = [None]*size\n",
        "\n",
        "\n",
        "  def insert(self, s):\n",
        "    if self.search_hashtable(s) == 'Found':\n",
        "      print(s,'Already Inserted. Cannot reinsert.')\n",
        "      print('===============================')\n",
        "      return\n",
        "    key = self.__hash_function(s)\n",
        "    node = Node(s)\n",
        "    if self.ht[key] == None:\n",
        "      self.ht[key] = node\n",
        "    else:\n",
        "      node.next = self.ht[key]\n",
        "      self.ht[key] = node\n",
        "\n",
        "  def create_from_array(self, arr):\n",
        "    for i in arr:\n",
        "      self.insert(i)\n",
        "\n",
        "  def print_hashtable(self):\n",
        "    idx = 0\n",
        "    for i in self.ht:\n",
        "      print(idx, ':', end = ' ')\n",
        "      print_linked_list(i)\n",
        "      idx += 1\n",
        "  #Do by yourself\n",
        "  def __hash_function(self, s):\n",
        "    val=0\n",
        "    length=len(s)\n",
        "    if length%2==1:\n",
        "      s+=\"N\"\n",
        "    total=0\n",
        "    for i in range(0,length,2):\n",
        "      val1=str(ord(s[i]))+str(ord(s[i+1]))\n",
        "      total+=int(val1)\n",
        "    return total%len(s)\n",
        "  #Do by yourself\n",
        "  def search_hashtable(self, s):\n",
        "    k=self.__hash_function(s)\n",
        "    node=self.ht[k]\n",
        "    while node!=None:\n",
        "      if node.elem==s:\n",
        "        return \"Found\"\n",
        "      node=node.next\n",
        "    return \"Not Found\"\n",
        "\n"
      ],
      "metadata": {
        "id": "1aobPPrAVXCB"
      },
      "execution_count": 57,
      "outputs": []
    },
    {
      "cell_type": "code",
      "source": [
        "arr = ['Colt', 'Cordelius', 'Shelly', 'Doug', 'Emz', 'Bo']\n",
        "ht = Hashtable(5)\n",
        "ht.create_from_array(arr)\n",
        "ht.print_hashtable()\n",
        "'''\n",
        "0 : None\n",
        "\n",
        "1 : Bo-> None\n",
        "\n",
        "2 : Emz-> Colt-> None\n",
        "\n",
        "3 : Shelly-> None\n",
        "\n",
        "4 : Doug-> Cordelius-> None\n",
        "\n",
        "'''\n",
        "\n",
        "print('======================')\n",
        "result = ht.search_hashtable('Doug')\n",
        "unittest.output_test(result, 'Found')\n",
        "print(f'Doug {result}') #This should print 'Doug Found'\n",
        "\n",
        "print('======================')\n",
        "ht.insert('Doug') #This will print 'Doug Already Inserted. Cannot reinsert.'\n",
        "ht.print_hashtable()\n",
        "'''\n",
        "0 : None\n",
        "\n",
        "1 : Bo-> None\n",
        "\n",
        "2 : Emz-> Colt-> None\n",
        "\n",
        "3 : Shelly-> None\n",
        "\n",
        "4 : Doug-> Cordelius-> None\n",
        "\n",
        "'''\n",
        "\n",
        "print('======================')\n",
        "result = ht.search_hashtable('Edgar')\n",
        "unittest.output_test(result, 'Not Found')\n",
        "print(f'Edgar {result}') #This should print 'Edgar Not Found'\n",
        "\n",
        "print('======================')\n",
        "ht.insert('Edgar')\n",
        "ht.print_hashtable()\n",
        "'''\n",
        "0 : Edgar-> None\n",
        "\n",
        "1 : Bo-> None\n",
        "\n",
        "2 : Emz-> Colt-> None\n",
        "\n",
        "3 : Shelly-> None\n",
        "\n",
        "4 : Doug-> Cordelius-> None\n",
        "\n",
        "'''\n",
        "\n",
        "print('======================')\n",
        "result = ht.search_hashtable('Edgar')\n",
        "unittest.output_test(result, 'Found')\n",
        "print(f'Edgar {result}') #This should print 'Edgar Found'"
      ],
      "metadata": {
        "colab": {
          "base_uri": "https://localhost:8080/"
        },
        "id": "dpDpMZSgV_XU",
        "outputId": "d3297b4c-aae9-4dad-bab4-a0e7fdcc2b18"
      },
      "execution_count": 58,
      "outputs": [
        {
          "output_type": "stream",
          "name": "stdout",
          "text": [
            "[None, None, None, None, None]\n",
            "[None, None, None, <__main__.Node object at 0x7e7baf9c80d0>, None]\n",
            "[None, None, None, <__main__.Node object at 0x7e7baf9c80d0>, <__main__.Node object at 0x7e7baf9cb730>]\n",
            "[None, <__main__.Node object at 0x7e7baf9cb310>, None, <__main__.Node object at 0x7e7baf9c80d0>, <__main__.Node object at 0x7e7baf9cb730>]\n",
            "[None, <__main__.Node object at 0x7e7baf9cb310>, <__main__.Node object at 0x7e7baf9c97b0>, <__main__.Node object at 0x7e7baf9c80d0>, <__main__.Node object at 0x7e7baf9cb730>]\n",
            "[None, <__main__.Node object at 0x7e7baf9cb310>, <__main__.Node object at 0x7e7baf9c97b0>, <__main__.Node object at 0x7e7baf9c9360>, <__main__.Node object at 0x7e7baf9cb730>]\n",
            "0 : None\n",
            "\n",
            "1 : Bo-> Shelly-> None\n",
            "\n",
            "2 : Doug-> None\n",
            "\n",
            "3 : Emz-> Colt-> None\n",
            "\n",
            "4 : Cordelius-> None\n",
            "\n",
            "======================\n",
            "[None, <__main__.Node object at 0x7e7baf9cbd90>, <__main__.Node object at 0x7e7baf9c97b0>, <__main__.Node object at 0x7e7baf9c9360>, <__main__.Node object at 0x7e7baf9cb730>]\n",
            "Accepted\n",
            "Doug Found\n",
            "======================\n",
            "[None, <__main__.Node object at 0x7e7baf9cbd90>, <__main__.Node object at 0x7e7baf9c97b0>, <__main__.Node object at 0x7e7baf9c9360>, <__main__.Node object at 0x7e7baf9cb730>]\n",
            "Doug Already Inserted. Cannot reinsert.\n",
            "===============================\n",
            "0 : None\n",
            "\n",
            "1 : Bo-> Shelly-> None\n",
            "\n",
            "2 : Doug-> None\n",
            "\n",
            "3 : Emz-> Colt-> None\n",
            "\n",
            "4 : Cordelius-> None\n",
            "\n",
            "======================\n",
            "[None, <__main__.Node object at 0x7e7baf9cbd90>, <__main__.Node object at 0x7e7baf9c97b0>, <__main__.Node object at 0x7e7baf9c9360>, <__main__.Node object at 0x7e7baf9cb730>]\n",
            "Accepted\n",
            "Edgar Not Found\n",
            "======================\n",
            "[None, <__main__.Node object at 0x7e7baf9cbd90>, <__main__.Node object at 0x7e7baf9c97b0>, <__main__.Node object at 0x7e7baf9c9360>, <__main__.Node object at 0x7e7baf9cb730>]\n",
            "0 : None\n",
            "\n",
            "1 : Bo-> Shelly-> None\n",
            "\n",
            "2 : Doug-> None\n",
            "\n",
            "3 : Edgar-> Emz-> Colt-> None\n",
            "\n",
            "4 : Cordelius-> None\n",
            "\n",
            "======================\n",
            "[None, <__main__.Node object at 0x7e7baf9cbd90>, <__main__.Node object at 0x7e7baf9c97b0>, <__main__.Node object at 0x7e7baf74c280>, <__main__.Node object at 0x7e7baf9cb730>]\n",
            "Accepted\n",
            "Edgar Found\n"
          ]
        }
      ]
    },
    {
      "cell_type": "markdown",
      "source": [
        "#TASK 3\n",
        "Complete the following methods:\n",
        "\n",
        "\n",
        "\n",
        "> create_layered_hashtable()\n",
        "\n",
        "> search_element()"
      ],
      "metadata": {
        "id": "DzykBxGicdBw"
      }
    },
    {
      "cell_type": "code",
      "source": [
        "class Layered_Hashtable:\n",
        "  def __init__(self, express_array_size):\n",
        "    self.express_array = [None] * express_array_size\n",
        "\n",
        "  def print_express_lane(self):\n",
        "    for i in self.express_array:\n",
        "      print(i.elem, end = ' '*10)\n",
        "    print()\n",
        "\n",
        "  def print_layered_hashtable(self):\n",
        "    print('Express Lane is:')\n",
        "    self.print_express_lane()\n",
        "\n",
        "    for i in range (len(self.express_array)-1):\n",
        "      node = self.express_array[i]\n",
        "      next_node = self.express_array[i+1]\n",
        "      print(f'Normal Lane Nodes between Express Lane Node {node.elem} and Express Lane Node {next_node.elem} are: ')\n",
        "      while node != next_node:\n",
        "        print(node.elem, end = '->')\n",
        "        node = node.next\n",
        "      print()\n",
        "    print(f'Normal Lane Nodes ending in the Express Lane Node: {node.elem}')\n",
        "  #DO IT YOURSELF\n",
        "  def create_layered_hashtable(self, linked_list_head):\n",
        "    b_size=(len(arr)//(len(self.express_array)))+1\n",
        "    tail=linked_list_head\n",
        "    idx=0\n",
        "    num=0\n",
        "    while tail!=None:\n",
        "        if idx%b_size==0:\n",
        "            self.express_array[num]=tail\n",
        "            num+=1\n",
        "        idx+=1\n",
        "        tail=tail.next\n",
        "    return self.express_array\n",
        "\n",
        "  #DO IT YOURSELF\n",
        "  def search_element(self,k):\n",
        "    current = 0\n",
        "    node = self.express_array[current]\n",
        "    while current < len(self.express_array) - 1:\n",
        "      if node.elem <= k < node.next.elem:\n",
        "        break\n",
        "      current += 1\n",
        "      node = node.next\n",
        "\n",
        "    while node is not None:\n",
        "      if node.elem == k:\n",
        "        return 'Found'\n",
        "      node = node.next\n",
        "\n",
        "    return 'Not Found'"
      ],
      "metadata": {
        "id": "MkJtkO-ydCSw"
      },
      "execution_count": 68,
      "outputs": []
    },
    {
      "cell_type": "code",
      "source": [
        "arr = [4,6,9,18,25,37,62,67,79,84]\n",
        "head = create_linked_list(arr)\n",
        "express_array_size = 4\n",
        "\n",
        "layered_ht = Layered_Hashtable(express_array_size)\n",
        "layered_ht.create_layered_hashtable(head)\n",
        "layered_ht.print_layered_hashtable()\n",
        "\n",
        "print('==========1===========')\n",
        "result = layered_ht.search_element(67)\n",
        "unittest.output_test(result, 'Found')\n",
        "print(f'67 {result}') #67 Found\n",
        "\n",
        "print('==========2===========')\n",
        "result = layered_ht.search_element(84)\n",
        "unittest.output_test(result, 'Found')\n",
        "print(f'84 {result}') #84 Found\n",
        "\n",
        "print('==========3===========')\n",
        "result = layered_ht.search_element(1)\n",
        "unittest.output_test(result, 'Not Found')\n",
        "print(f'1 {result}') #1 Not Found\n",
        "\n",
        "print('==========4===========')\n",
        "result = layered_ht.search_element(92)\n",
        "unittest.output_test(result, 'Not Found')\n",
        "print(f'92 {result}') #92 Not Found\n",
        "\n",
        "print('==========5===========')\n",
        "result = layered_ht.search_element(41)\n",
        "unittest.output_test(result, 'Not Found')\n",
        "print(f'41 {result}') #41 Not Found"
      ],
      "metadata": {
        "colab": {
          "base_uri": "https://localhost:8080/"
        },
        "id": "9lxnCzZ6fymw",
        "outputId": "40d19650-726a-4800-bffb-6c4558397209"
      },
      "execution_count": 69,
      "outputs": [
        {
          "output_type": "stream",
          "name": "stdout",
          "text": [
            "Express Lane is:\n",
            "4          18          62          84          \n",
            "Normal Lane Nodes between Express Lane Node 4 and Express Lane Node 18 are: \n",
            "4->6->9->\n",
            "Normal Lane Nodes between Express Lane Node 18 and Express Lane Node 62 are: \n",
            "18->25->37->\n",
            "Normal Lane Nodes between Express Lane Node 62 and Express Lane Node 84 are: \n",
            "62->67->79->\n",
            "Normal Lane Nodes ending in the Express Lane Node: 84\n",
            "==========1===========\n",
            "Accepted\n",
            "67 Found\n",
            "==========2===========\n",
            "Accepted\n",
            "84 Found\n",
            "==========3===========\n",
            "Accepted\n",
            "1 Not Found\n",
            "==========4===========\n",
            "Accepted\n",
            "92 Not Found\n",
            "==========5===========\n",
            "Accepted\n",
            "41 Not Found\n"
          ]
        }
      ]
    },
    {
      "cell_type": "code",
      "source": [],
      "metadata": {
        "id": "mEVgVZfGf8tN"
      },
      "execution_count": null,
      "outputs": []
    }
  ]
}